{
 "cells": [
  {
   "cell_type": "markdown",
   "metadata": {
    "id": "VcgW51u1yP8C"
   },
   "source": [
    "# **Занятие 5. Классификация изображений**\n",
    "\n",
    "https://vk.com/lambda_brain\n",
    "\n",
    "Классификация изображений -- это уже полноценная задача реального мира. Самое приятное здесь в том, что нету качественного алгоритмического отличия классификации изображений от классификации других наборов данных. Нейронные сети работают таким магическим образом, что мы просто подаём им на вход наборы \"байтов\", и не важно, что это -- абстрактные значения функций или пикселы изображений, они все анализируются нейросетью по единой схеме.\n",
    "\n",
    "Мы познакомимся с основными принципами классификации изображений в PyTorch, а также изучим смежные вопросы, связанные с загрузкой объёмных датасетов с изображениями в программу и их удобной визуализацией.\n"
   ]
  },
  {
   "cell_type": "markdown",
   "metadata": {
    "id": "ls8BPtFn0Uop"
   },
   "source": [
    "# MNIST"
   ]
  },
  {
   "cell_type": "markdown",
   "metadata": {
    "id": "g-ssFltrylmg"
   },
   "source": [
    "\n",
    "\n",
    "---\n",
    "\n",
    "\n",
    "В качестве первого примера воспользуемся распространённым датасетом изображений **MNIST**, на котором создано наверное максимальное количество обучающих уроков по нейронным сетям.\n",
    "\n",
    "MNIST подготовлен **Яном ЛеКуном** -- ведущим мировым специалистом по нейронным сетям, и представляет собой датасет для обучения распознаванию рукописных цифр. Обучающая выборка содержит 60,000 изображений, и тестовая -- 10,000. Каждое изображение чёрно-белое размером 28x28 пикселов.\n",
    "\n",
    "Импортируем нужные модули:\n"
   ]
  },
  {
   "cell_type": "code",
   "execution_count": 1,
   "metadata": {
    "id": "8abpHoRq6V-L"
   },
   "outputs": [],
   "source": [
    "import torch\n",
    "import torch.nn as nn\n",
    "import torchvision\n",
    "import torchvision.datasets as dsets\n",
    "import torchvision.transforms as transforms\n"
   ]
  },
  {
   "cell_type": "markdown",
   "metadata": {
    "id": "BGDiRyHTy4kF"
   },
   "source": [
    "Задаём гипер-параметры:"
   ]
  },
  {
   "cell_type": "code",
   "execution_count": 2,
   "metadata": {
    "id": "UfwVbruB8gQb"
   },
   "outputs": [],
   "source": [
    "\n",
    "input_size = 28*28     # Размер изображения в точках\n",
    "hidden_size = 500      # Количество нейронов в скрытом слое\n",
    "num_classes = 10       # Количество распознающихся классов (10 цифр)\n",
    "n_epochs = 2           # Количество эпох\n",
    "batch_size = 4         # Размер мини-пакета входных данных\n",
    "lr = 0.01              # Скорость обучения"
   ]
  },
  {
   "cell_type": "markdown",
   "metadata": {
    "id": "KvCFT8OvzLik"
   },
   "source": [
    "Большое количество готовых датасетов и различные удобные методы их загрузки и обработки собраны в модуле torchvision. Имеется в нём конечно и MNIST.\n",
    "\n",
    "В конструкторе датасета MNIST указывается, как правило, каталог root, где будет локально размещён соответствующий датасет, download -- необходимость скачивания датасета для его локального использования, train -- признак, является ли данный датасет обучающим или тестовым, и трансформация transform, которую надо выполнить над данным датасетом. Последняя фича весьма полезна, потому что исходные изображения нередко требуется предварительно обрабатывать под конкретный формат их дальнейшего анализа. В нашем случае просто укажем стандартную трансформацию преобразования входных данных в тензоры.\n",
    "\n",
    "Убедимся, что размеры датасета совпадают с официально объявленными.\n"
   ]
  },
  {
   "cell_type": "code",
   "execution_count": 3,
   "metadata": {
    "id": "0eX2jdtCLzWd"
   },
   "outputs": [
    {
     "name": "stdout",
     "output_type": "stream",
     "text": [
      "60000\n",
      "10000\n"
     ]
    }
   ],
   "source": [
    "import torchvision.transforms as transforms\n",
    "mnist_trainset = dsets.MNIST(root='./data', train=True, download=True, transform=transforms.ToTensor())\n",
    "mnist_testset = dsets.MNIST(root='./data', train=False, download=True, transform=transforms.ToTensor())\n",
    "print(len(mnist_trainset))\n",
    "print(len(mnist_testset))"
   ]
  },
  {
   "cell_type": "markdown",
   "metadata": {
    "id": "m3Wg4nsIzpkF"
   },
   "source": [
    "Так как наш датасет большой по размеру, обрабатывать его надо небольшими порциями, мини-пакетами, как рассказывалось во втором занятии -- с помощью загрузчиков данных DataLoader."
   ]
  },
  {
   "cell_type": "code",
   "execution_count": 4,
   "metadata": {
    "id": "brvDSwBVNqqS"
   },
   "outputs": [],
   "source": [
    "train_loader = torch.utils.data.DataLoader(dataset=mnist_trainset,\n",
    "                                           batch_size=batch_size,\n",
    "                                           shuffle=True) # загрузчик обучающих данных\n",
    "test_loader = torch.utils.data.DataLoader(dataset=mnist_testset,\n",
    "                                          batch_size=batch_size,\n",
    "                                          shuffle=False) # загрузчик тестовых данных"
   ]
  },
  {
   "cell_type": "markdown",
   "metadata": {
    "id": "rHdERlgdz2dG"
   },
   "source": [
    "Добавим наш стандартный шаг обучения."
   ]
  },
  {
   "cell_type": "code",
   "execution_count": 5,
   "metadata": {
    "id": "TCBltxfGOChj"
   },
   "outputs": [],
   "source": [
    "# импортируем нужные библиотеки\n",
    "import torch\n",
    "import numpy as np # всегда пригодится :)\n",
    "from torch.nn import Linear, Sigmoid\n",
    "\n",
    "# инициализируем девайс\n",
    "device = 'cuda' if torch.cuda.is_available() else 'cpu'\n",
    "\n",
    "# добавляем типовую функцию \"шаг обучения\"\n",
    "def make_train_step(model, loss_fn, optimizer):\n",
    "    def train_step(x, y):\n",
    "        model.train()\n",
    "        yhat = model(x)\n",
    "        loss = loss_fn(yhat, y)\n",
    "        loss.backward()\n",
    "        optimizer.step()\n",
    "        optimizer.zero_grad()\n",
    "        return loss.item()\n",
    "    return train_step"
   ]
  },
  {
   "cell_type": "markdown",
   "metadata": {
    "id": "RmngiGejz5lW"
   },
   "source": [
    "Структура нашей модели будет представлять собой двуслойную нейронную сеть -- она ничем не отличается от модели, применявшейся в прошлом занятии при анализе абстрактного датасета (линейный вход + ReLU + линейный выход).\n",
    "\n",
    "Воспользуемся лоссом CrossEntropyLoss() и методом оптимизации Adam.\n",
    "\n",
    "Обратите внимание, что мы задаём уже не тысячи, а **всего две эпохи** -- процесс обучения на таком довольно объёмном датасете потребует уже прилично времени (несколько минут на одну эпоху).\n",
    "\n",
    "Единственное дополнение -- мы применяем метод reshape(-1, 28 * 28), чтобы изменить входной трёхмерный формат изображения 1x28x28 (глубина цветности x размеры) на нужный нам одномерный вектор длиной 784 значения. Параметр -1 означает, что преобразование выполняется в одномерный результат.\n"
   ]
  },
  {
   "cell_type": "code",
   "execution_count": 6,
   "metadata": {
    "id": "ZlW-CkjeOn2u"
   },
   "outputs": [
    {
     "name": "stdout",
     "output_type": "stream",
     "text": [
      "epoch=0 loss=0.46270567178726196\n",
      "epoch=1 loss=0.008376606740057468\n",
      "0.008376606740057468\n"
     ]
    }
   ],
   "source": [
    "from torch import optim, nn\n",
    "\n",
    "model = torch.nn.Sequential(\n",
    "    nn.Linear(input_size, hidden_size),\n",
    "    nn.ReLU(),\n",
    "    nn.Linear(hidden_size, num_classes))\n",
    "model.to(device)\n",
    "\n",
    "loss_fn = torch.nn.CrossEntropyLoss()\n",
    "optimizer = optim.Adam(model.parameters(), lr=lr)\n",
    "\n",
    "train_step = make_train_step(model, loss_fn, optimizer)\n",
    "\n",
    "for epoch in range(n_epochs):\n",
    "    for images, labels in train_loader:\n",
    "        images = images.reshape(-1, 28*28).to(device)\n",
    "        images = images.to(device)\n",
    "        labels = labels.to(device)\n",
    "        loss = train_step(images, labels)\n",
    "    print(f\"{epoch=} {loss=}\")\n",
    "\n",
    "# print(model.state_dict())\n",
    "print(loss)"
   ]
  },
  {
   "cell_type": "markdown",
   "metadata": {
    "id": "fpV9EAsF0mK8"
   },
   "source": [
    "Теперь проверим, с какой точностью наша модель проверит 10,000 тестовых изображений:"
   ]
  },
  {
   "cell_type": "code",
   "execution_count": 7,
   "metadata": {
    "id": "L-zC19n5X_-7"
   },
   "outputs": [
    {
     "name": "stdout",
     "output_type": "stream",
     "text": [
      "Точность: 91.7 %\n"
     ]
    }
   ],
   "source": [
    "with torch.no_grad():\n",
    "    correct = 0\n",
    "    total = 0\n",
    "    for images, labels in test_loader:\n",
    "        images = images.reshape(-1, 28*28).to(device)\n",
    "        images = images.to(device)\n",
    "        labels = labels.to(device)\n",
    "        outputs = model(images)\n",
    "        _, predicted = torch.max(outputs.data, 1)\n",
    "        total += labels.size(0)\n",
    "        correct += (predicted == labels).sum().item()\n",
    "\n",
    "    print('Точность: {} %'.format(100 * correct / total))"
   ]
  },
  {
   "cell_type": "markdown",
   "metadata": {
    "id": "beRRn3tq00-s"
   },
   "source": [
    "Около 90% -- это очень хороший результат для тренировки всего в течение пяти минут за две эпохи. Обратите внимание, что обученная модель время на распознавание даже такого приличного по объёму датасета уже практически не тратит.\n",
    "\n",
    "\n",
    "---\n",
    "\n",
    "\n",
    "\n",
    "Вычисление, конечно, может занимать не минуты, а часы, сутки, недели и месяцы работы. Чтобы продолжить работу с нашей обученной моделью уже в прикладных задачах, нам надо прежде всего её сохранить в файле (в PyTorch принято, что расширение файла с полностью сохранённой моделью -- .pt).\n"
   ]
  },
  {
   "cell_type": "code",
   "execution_count": 8,
   "metadata": {
    "id": "4NXf2S6EY8PR"
   },
   "outputs": [],
   "source": [
    "torch.save(model, 'mnist_full.pt')"
   ]
  },
  {
   "cell_type": "markdown",
   "metadata": {
    "id": "3MgEmnMa1CzC"
   },
   "source": [
    "Сохранение выполняется в виртуальной машине гугла, где мы загрузили датасет MNIST. Загрузка модели выполняется так же просто:"
   ]
  },
  {
   "cell_type": "code",
   "execution_count": 9,
   "metadata": {
    "id": "yjjzYGrHjHlW"
   },
   "outputs": [
    {
     "name": "stderr",
     "output_type": "stream",
     "text": [
      "/tmp/ipykernel_42693/86338239.py:1: FutureWarning: You are using `torch.load` with `weights_only=False` (the current default value), which uses the default pickle module implicitly. It is possible to construct malicious pickle data which will execute arbitrary code during unpickling (See https://github.com/pytorch/pytorch/blob/main/SECURITY.md#untrusted-models for more details). In a future release, the default value for `weights_only` will be flipped to `True`. This limits the functions that could be executed during unpickling. Arbitrary objects will no longer be allowed to be loaded via this mode unless they are explicitly allowlisted by the user via `torch.serialization.add_safe_globals`. We recommend you start setting `weights_only=True` for any use case where you don't have full control of the loaded file. Please open an issue on GitHub for any issues related to this experimental feature.\n",
      "  model = torch.load(\"mnist_full.pt\")\n"
     ]
    },
    {
     "data": {
      "text/plain": [
       "Sequential(\n",
       "  (0): Linear(in_features=784, out_features=500, bias=True)\n",
       "  (1): ReLU()\n",
       "  (2): Linear(in_features=500, out_features=10, bias=True)\n",
       ")"
      ]
     },
     "execution_count": 9,
     "metadata": {},
     "output_type": "execute_result"
    }
   ],
   "source": [
    "model = torch.load(\"mnist_full.pt\")\n",
    "model.eval()"
   ]
  },
  {
   "cell_type": "markdown",
   "metadata": {
    "id": "_7uotPWL1KwL"
   },
   "source": [
    "После загрузки модели надо обязательно выполнить её метод **eval()** -- это означает, что мы будем пользоваться моделью в режиме её эксплуатации, а не в режимах обучения или каких-то других."
   ]
  },
  {
   "cell_type": "markdown",
   "metadata": {
    "id": "5BVbpWvHQ1F2"
   },
   "source": [
    "##**Задание**\n",
    "\n",
    "Попробуйте повысить точность нашей модели:\n",
    "\n",
    "* увеличьте количество эпох;\n",
    "* увеличьте количество нейронов;\n",
    "* добавьте новые скрытые слои;\n",
    "* измените размер мини-пакета.\n",
    "\n",
    "\n",
    "---\n",
    "\n",
    "* При желании придумайте, как визуализировать работу модели на тестовых данных (показывать изображения и соответствующий им распознанный класс).\n",
    "\n",
    "\n",
    "\n"
   ]
  },
  {
   "cell_type": "markdown",
   "metadata": {
    "id": "_9JkYrdVE3bb"
   },
   "source": [
    "Далее мы рассмотрим работу с более сложным датасетом изображений (котики и пёсики), которому потребуется предварительная обработка."
   ]
  },
  {
   "cell_type": "code",
   "execution_count": 10,
   "metadata": {},
   "outputs": [],
   "source": [
    "input_size = 28*28     # Размер изображения в точках\n",
    "hidden_size = 1024     # Количество нейронов в скрытом слое\n",
    "num_classes = 10       # Количество распознающихся классов (10 цифр)\n",
    "n_epochs = 20          # Количество эпох\n",
    "batch_size = 1024      # Размер мини-пакета входных данных\n",
    "lr = 0.01              # Скорость обучения"
   ]
  },
  {
   "cell_type": "code",
   "execution_count": 11,
   "metadata": {},
   "outputs": [],
   "source": [
    "train_loader = torch.utils.data.DataLoader(dataset=mnist_trainset,\n",
    "                                           batch_size=batch_size,\n",
    "                                           shuffle=True) # загрузчик обучающих данных\n",
    "test_loader = torch.utils.data.DataLoader(dataset=mnist_testset,\n",
    "                                          batch_size=batch_size,\n",
    "                                          shuffle=False) # загрузчик тестовых данных"
   ]
  },
  {
   "cell_type": "code",
   "execution_count": 12,
   "metadata": {},
   "outputs": [
    {
     "name": "stdout",
     "output_type": "stream",
     "text": [
      "Sequential(\n",
      "  (0): Linear(in_features=784, out_features=1024, bias=True)\n",
      "  (1): ReLU()\n",
      "  (2): Linear(in_features=1024, out_features=512, bias=True)\n",
      "  (3): ReLU()\n",
      "  (4): Linear(in_features=512, out_features=256, bias=True)\n",
      "  (5): ReLU()\n",
      "  (6): Linear(in_features=256, out_features=128, bias=True)\n",
      "  (7): ReLU()\n",
      "  (8): Linear(in_features=128, out_features=64, bias=True)\n",
      "  (9): ReLU()\n",
      "  (10): Linear(in_features=64, out_features=10, bias=True)\n",
      ")\n"
     ]
    }
   ],
   "source": [
    "from torch import optim, nn\n",
    "\n",
    "model = torch.nn.Sequential(\n",
    "    nn.Linear(input_size, hidden_size),\n",
    "    nn.ReLU(),\n",
    "    nn.Linear(hidden_size, hidden_size // 2),\n",
    "    nn.ReLU(),\n",
    "    nn.Linear(hidden_size // 2, hidden_size // 4),\n",
    "    nn.ReLU(),\n",
    "    nn.Linear(hidden_size // 4, hidden_size // 8),\n",
    "    nn.ReLU(),\n",
    "    nn.Linear(hidden_size // 8, hidden_size // 16),\n",
    "    nn.ReLU(),\n",
    "    nn.Linear(hidden_size // 16, num_classes)\n",
    ")\n",
    "model.to(device)\n",
    "\n",
    "loss_fn = torch.nn.CrossEntropyLoss()\n",
    "optimizer = optim.Adam(model.parameters(), lr=lr)\n",
    "\n",
    "train_step = make_train_step(model, loss_fn, optimizer)\n",
    "\n",
    "print(model)"
   ]
  },
  {
   "cell_type": "code",
   "execution_count": 13,
   "metadata": {},
   "outputs": [
    {
     "name": "stdout",
     "output_type": "stream",
     "text": [
      "epoch=0 loss=0.2686638832092285\n",
      "epoch=1 loss=0.12298985570669174\n",
      "epoch=2 loss=0.08585553616285324\n",
      "epoch=3 loss=0.09001269191503525\n",
      "epoch=4 loss=0.03509070351719856\n",
      "epoch=5 loss=0.09281663596630096\n",
      "epoch=6 loss=0.03161889314651489\n",
      "epoch=7 loss=0.021360861137509346\n",
      "epoch=8 loss=0.033233970403671265\n",
      "epoch=9 loss=0.04020183905959129\n",
      "epoch=10 loss=0.016224684193730354\n",
      "epoch=11 loss=0.02644667774438858\n",
      "epoch=12 loss=0.02096288837492466\n",
      "epoch=13 loss=0.05634865537285805\n",
      "epoch=14 loss=0.020939920097589493\n",
      "epoch=15 loss=0.03144346550107002\n",
      "epoch=16 loss=0.06292232871055603\n",
      "epoch=17 loss=0.01832468807697296\n",
      "epoch=18 loss=0.0442609004676342\n",
      "epoch=19 loss=0.022074095904827118\n",
      "0.022074095904827118\n"
     ]
    }
   ],
   "source": [
    "for epoch in range(n_epochs):\n",
    "    for images, labels in train_loader:\n",
    "        images = images.reshape(-1, 28*28).to(device)\n",
    "        images = images.to(device)\n",
    "        labels = labels.to(device)\n",
    "        loss = train_step(images, labels)\n",
    "    print(f\"{epoch=} {loss=}\")\n",
    "\n",
    "print(loss)"
   ]
  },
  {
   "cell_type": "code",
   "execution_count": 14,
   "metadata": {},
   "outputs": [
    {
     "name": "stdout",
     "output_type": "stream",
     "text": [
      "Точность: 97.95 %\n"
     ]
    }
   ],
   "source": [
    "with torch.no_grad():\n",
    "    correct = 0\n",
    "    total = 0\n",
    "    for images, labels in test_loader:\n",
    "        images = images.reshape(-1, 28*28).to(device)\n",
    "        images = images.to(device)\n",
    "        labels = labels.to(device)\n",
    "        outputs = model(images)\n",
    "        _, predicted = torch.max(outputs.data, 1)\n",
    "        total += labels.size(0)\n",
    "        correct += (predicted == labels).sum().item()\n",
    "\n",
    "print('Точность: {} %'.format(100 * correct / total))"
   ]
  },
  {
   "cell_type": "code",
   "execution_count": 15,
   "metadata": {},
   "outputs": [],
   "source": [
    "import matplotlib.pyplot as plt"
   ]
  },
  {
   "cell_type": "code",
   "execution_count": 16,
   "metadata": {},
   "outputs": [
    {
     "data": {
      "image/png": "[encoded data removed]",
      "text/plain": [
       "<Figure size 640x480 with 9 Axes>"
      ]
     },
     "metadata": {},
     "output_type": "display_data"
    }
   ],
   "source": [
    "f, axarr = plt.subplots(3,3)\n",
    "plt.subplots_adjust(wspace=0, hspace=0.3)\n",
    "for i in range(9):\n",
    "    axarr[i//3, i%3].imshow(images[i].cpu().reshape(28, 28, 1), label=\"123\")\n",
    "    axarr[i//3, i%3].set_title(predicted[i].item())\n",
    "    axarr[i//3, i%3].tick_params(\n",
    "        left=False,\n",
    "        right=False,\n",
    "        labelleft=False,\n",
    "        labelbottom=False,\n",
    "        bottom=False\n",
    "    )\n",
    "plt.show()"
   ]
  },
  {
   "cell_type": "code",
   "execution_count": 17,
   "metadata": {},
   "outputs": [
    {
     "data": {
      "image/png": "[encoded data removed]",
      "text/plain": [
       "<Figure size 640x480 with 9 Axes>"
      ]
     },
     "metadata": {},
     "output_type": "display_data"
    }
   ],
   "source": [
    "incorrects = [i for i in range(28*28) if (predicted!=labels)[i]][:9]\n",
    "\n",
    "f, axarr = plt.subplots(3,3)\n",
    "plt.subplots_adjust(wspace=0, hspace=0.3)\n",
    "for i in range(9):\n",
    "    j = incorrects[i]\n",
    "    axarr[i//3, i%3].imshow(images[j].cpu().reshape(28, 28, 1), label=\"123\")\n",
    "    axarr[i//3, i%3].set_title(predicted[j].item())\n",
    "    axarr[i//3, i%3].tick_params(\n",
    "        left=False,\n",
    "        right=False,\n",
    "        labelleft=False,\n",
    "        labelbottom=False,\n",
    "        bottom=False\n",
    "    )\n",
    "plt.show()"
   ]
  }
 ],
 "metadata": {
  "accelerator": "GPU",
  "colab": {
   "collapsed_sections": [
    "ls8BPtFn0Uop"
   ],
   "provenance": []
  },
  "kernelspec": {
   "display_name": "Python 3 (ipykernel)",
   "language": "python",
   "name": "python3"
  },
  "language_info": {
   "codemirror_mode": {
    "name": "ipython",
    "version": 3
   },
   "file_extension": ".py",
   "mimetype": "text/x-python",
   "name": "python",
   "nbconvert_exporter": "python",
   "pygments_lexer": "ipython3",
   "version": "3.12.0rc1"
  }
 },
 "nbformat": 4,
 "nbformat_minor": 4
}
